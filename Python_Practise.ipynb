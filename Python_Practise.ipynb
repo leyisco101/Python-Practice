{
  "cells": [
    {
      "cell_type": "code",
      "execution_count": null,
      "metadata": {
        "colab": {
          "base_uri": "https://localhost:8080/"
        },
        "id": "DMDn_RYX0iaq",
        "outputId": "7bb912db-6498-4c67-aebf-148e5dd06051"
      },
      "outputs": [
        {
          "name": "stdout",
          "output_type": "stream",
          "text": [
            "10\n"
          ]
        }
      ],
      "source": [
        "#Integer\n",
        "price = 10\n",
        "print(price)"
      ]
    },
    {
      "cell_type": "code",
      "execution_count": null,
      "metadata": {
        "colab": {
          "base_uri": "https://localhost:8080/"
        },
        "id": "ebDQISUd1y2X",
        "outputId": "23fd31a8-cd1c-4288-afb5-681b74ada4f8"
      },
      "outputs": [
        {
          "name": "stdout",
          "output_type": "stream",
          "text": [
            "4.9\n"
          ]
        }
      ],
      "source": [
        "#Floats\n",
        "rating = 4.9\n",
        "print(rating)"
      ]
    },
    {
      "cell_type": "code",
      "execution_count": null,
      "metadata": {
        "colab": {
          "base_uri": "https://localhost:8080/"
        },
        "id": "NLXe670j16H1",
        "outputId": "48772ca0-3d41-406c-ec38-334fcad34c06"
      },
      "outputs": [
        {
          "name": "stdout",
          "output_type": "stream",
          "text": [
            "Adeleye\n"
          ]
        }
      ],
      "source": [
        "#Strings\n",
        "name = \"Adeleye\"\n",
        "print(name)"
      ]
    },
    {
      "cell_type": "code",
      "execution_count": null,
      "metadata": {
        "colab": {
          "base_uri": "https://localhost:8080/"
        },
        "id": "HUu8K5yw2WGD",
        "outputId": "8a3cb6ac-325c-4628-e0a6-5453de106f14"
      },
      "outputs": [
        {
          "name": "stdout",
          "output_type": "stream",
          "text": [
            "True\n"
          ]
        }
      ],
      "source": [
        "#Boolean\n",
        "is_published = True\n",
        "print(is_published)"
      ]
    },
    {
      "cell_type": "code",
      "execution_count": null,
      "metadata": {
        "id": "IZlwWdAtCNoL"
      },
      "outputs": [],
      "source": [
        "# Assigment\n",
        "# We check in a patient named John Smith. He's 20 years old and is a new patient.\n",
        "name = \"John Smith\"\n",
        "age = 20\n",
        "is_new = True\n",
        "\n"
      ]
    },
    {
      "cell_type": "code",
      "execution_count": null,
      "metadata": {
        "colab": {
          "base_uri": "https://localhost:8080/"
        },
        "id": "c-5fFyunELvV",
        "outputId": "e4958fbe-a4c7-4fbd-e981-054377b03b80"
      },
      "outputs": [
        {
          "name": "stdout",
          "output_type": "stream",
          "text": [
            "What is your name? Adeleye\n",
            "Hi Adeleye\n"
          ]
        }
      ],
      "source": [
        "name = input(\"What is your name? \")\n",
        "print(\"Hi \" + name)"
      ]
    },
    {
      "cell_type": "code",
      "execution_count": null,
      "metadata": {
        "colab": {
          "base_uri": "https://localhost:8080/"
        },
        "id": "tZ3A-SswGMkx",
        "outputId": "d7c66edf-9e68-4c8d-e139-bedc69960547"
      },
      "outputs": [
        {
          "name": "stdout",
          "output_type": "stream",
          "text": [
            "What is your name? Adeleye\n",
            "What is your favourite colour? Blue\n",
            "Adeleye likes Blue\n"
          ]
        }
      ],
      "source": [
        "#Assignment\n",
        "# Ask two questions: Persons name and favortite colour\n",
        "# then print a message like \"Adeleye likes blue\"\n",
        "\n",
        "name = input(\"What is your name? \")\n",
        "colour = input(\"What is your favourite colour? \")\n",
        "print(name + \" likes \" + colour)\n"
      ]
    },
    {
      "cell_type": "code",
      "execution_count": null,
      "metadata": {
        "colab": {
          "base_uri": "https://localhost:8080/"
        },
        "id": "oKN7WjnuLnGz",
        "outputId": "7e2b1b86-363a-44b6-9391-f2f2cd4c63cd"
      },
      "outputs": [
        {
          "name": "stdout",
          "output_type": "stream",
          "text": [
            "Enter your birth year: 1982\n",
            "<class 'str'>\n",
            "<class 'int'>\n",
            "40\n"
          ]
        }
      ],
      "source": [
        "birth_year = input(\"Enter your birth year: \")\n",
        "print(type(birth_year))\n",
        "age = 2022 - int(birth_year)\n",
        "print(type(age))\n",
        "print(age)"
      ]
    },
    {
      "cell_type": "code",
      "execution_count": null,
      "metadata": {
        "colab": {
          "base_uri": "https://localhost:8080/"
        },
        "id": "1GxpkFQUZiKv",
        "outputId": "6609ea2f-d0d8-42b1-d716-c78265788829"
      },
      "outputs": [
        {
          "name": "stdout",
          "output_type": "stream",
          "text": [
            "Enter your weight in pounds: 160\n",
            "72.0\n"
          ]
        }
      ],
      "source": [
        "#Assignment\n",
        "# Ask a user their weight in pounds, convert it to kilograms and print on the Terminals\n",
        "Weight = input(\"Enter your weight in pounds: \")\n",
        "kg = int(Weight) * 0.45\n",
        "print(kg)"
      ]
    },
    {
      "cell_type": "markdown",
      "metadata": {
        "id": "uPCaPgCBbVTe"
      },
      "source": [
        "#STRING"
      ]
    },
    {
      "cell_type": "code",
      "execution_count": null,
      "metadata": {
        "colab": {
          "base_uri": "https://localhost:8080/"
        },
        "id": "xT1ShkScb4jf",
        "outputId": "1197f9a6-1fab-430a-a0b4-f6f57409825e"
      },
      "outputs": [
        {
          "name": "stdout",
          "output_type": "stream",
          "text": [
            "Python's Course for Beginners\n"
          ]
        }
      ],
      "source": [
        "Course = \"Python's Course for Beginners\"\n",
        "print(Course)"
      ]
    },
    {
      "cell_type": "code",
      "execution_count": null,
      "metadata": {
        "colab": {
          "base_uri": "https://localhost:8080/"
        },
        "id": "QYYz-Hozb6AW",
        "outputId": "21ccf4d5-3bb1-4665-8e59-46b31f7c3ae0"
      },
      "outputs": [
        {
          "name": "stdout",
          "output_type": "stream",
          "text": [
            "tho\n"
          ]
        }
      ],
      "source": [
        "Course = \"Python's Course for Beginners\"\n",
        "print(Course[2:5])"
      ]
    },
    {
      "cell_type": "code",
      "execution_count": null,
      "metadata": {
        "colab": {
          "base_uri": "https://localhost:8080/"
        },
        "id": "13W4r1BCirX9",
        "outputId": "e086addb-5e4e-4042-f054-dff8aab98747"
      },
      "outputs": [
        {
          "name": "stdout",
          "output_type": "stream",
          "text": [
            "ennife\n"
          ]
        }
      ],
      "source": [
        "#Assigment\n",
        "name = \"Jennifer\"\n",
        "print(name[1:-1])"
      ]
    },
    {
      "cell_type": "code",
      "execution_count": null,
      "metadata": {
        "colab": {
          "base_uri": "https://localhost:8080/"
        },
        "id": "ytVcufs_Ouqt",
        "outputId": "3966e18f-4456-45f8-9b49-2e7de833913d"
      },
      "outputs": [
        {
          "name": "stdout",
          "output_type": "stream",
          "text": [
            "John  [Smith] is a coder\n"
          ]
        }
      ],
      "source": [
        "# Strings Formating\n",
        "First =  \"John\"\n",
        "Last = \"Smith\"\n",
        "Message = First + ' [' + Last + '] is a coder'\n",
        "Msg = f'{First}  [{Last}] is a coder'\n",
        "print(Msg)"
      ]
    },
    {
      "cell_type": "code",
      "execution_count": null,
      "metadata": {
        "colab": {
          "base_uri": "https://localhost:8080/"
        },
        "id": "m164h81hRG2W",
        "outputId": "67ed4454-28f3-44e2-f10c-7db9f3f46fa0"
      },
      "outputs": [
        {
          "name": "stdout",
          "output_type": "stream",
          "text": [
            "20\n"
          ]
        }
      ],
      "source": [
        "# Strings Method\n",
        "Course = \"Python for Beginners\"\n",
        "print(len(Course))"
      ]
    },
    {
      "cell_type": "code",
      "execution_count": null,
      "metadata": {
        "colab": {
          "base_uri": "https://localhost:8080/"
        },
        "id": "8G3MOWDYTrIM",
        "outputId": "22f550dd-e3e5-46dd-98b7-e2daf26fb2bf"
      },
      "outputs": [
        {
          "name": "stdout",
          "output_type": "stream",
          "text": [
            "PYTHON FOR BEGINNERS\n"
          ]
        }
      ],
      "source": [
        "Course = \"Python for Beginners\"\n",
        "print(Course.upper())"
      ]
    },
    {
      "cell_type": "code",
      "execution_count": null,
      "metadata": {
        "colab": {
          "base_uri": "https://localhost:8080/"
        },
        "id": "fQBO5HtoT5Dc",
        "outputId": "a2b98e86-0f88-40fd-e554-4afb21199792"
      },
      "outputs": [
        {
          "name": "stdout",
          "output_type": "stream",
          "text": [
            "python for beginners\n"
          ]
        }
      ],
      "source": [
        "Course = \"Python for Beginners\"\n",
        "print(Course.lower())"
      ]
    },
    {
      "cell_type": "code",
      "execution_count": null,
      "metadata": {
        "colab": {
          "base_uri": "https://localhost:8080/"
        },
        "id": "jO0vA8SCUUmT",
        "outputId": "274bd811-448d-4a46-d8d0-2985946e31df"
      },
      "outputs": [
        {
          "name": "stdout",
          "output_type": "stream",
          "text": [
            "11\n"
          ]
        }
      ],
      "source": [
        "Course = \"Python for Beginners\"\n",
        "print(Course.find(\"Beginners\"))"
      ]
    },
    {
      "cell_type": "code",
      "execution_count": null,
      "metadata": {
        "colab": {
          "base_uri": "https://localhost:8080/"
        },
        "id": "yt1WlqkcUhAM",
        "outputId": "72d0b7f3-990d-4e5c-e7db-6dc100930a7d"
      },
      "outputs": [
        {
          "name": "stdout",
          "output_type": "stream",
          "text": [
            "Python for Absolute Beginners\n"
          ]
        }
      ],
      "source": [
        "Course = \"Python for Beginners\"\n",
        "print(Course.replace(\"Beginners\", \"Absolute Beginners\"))"
      ]
    },
    {
      "cell_type": "code",
      "execution_count": null,
      "metadata": {
        "colab": {
          "base_uri": "https://localhost:8080/"
        },
        "id": "IW6jyiL1VRJM",
        "outputId": "e29071e4-b96f-4ffe-bf1c-df84b172fb03"
      },
      "outputs": [
        {
          "name": "stdout",
          "output_type": "stream",
          "text": [
            "Jython for Beginners\n"
          ]
        }
      ],
      "source": [
        "Course = \"Python for Beginners\"\n",
        "print(Course.replace(\"P\", \"J\"))"
      ]
    },
    {
      "cell_type": "code",
      "execution_count": null,
      "metadata": {
        "colab": {
          "base_uri": "https://localhost:8080/"
        },
        "id": "-ciJGNWdV7Ku",
        "outputId": "a4eb98ec-2407-44f2-c207-2e5cd4f1f48c"
      },
      "outputs": [
        {
          "name": "stdout",
          "output_type": "stream",
          "text": [
            "False\n"
          ]
        }
      ],
      "source": [
        "Course = \"Python for Beginners\"\n",
        "print(\"python\" in Course)"
      ]
    },
    {
      "cell_type": "code",
      "execution_count": null,
      "metadata": {
        "colab": {
          "base_uri": "https://localhost:8080/"
        },
        "id": "0HVGynVMaK-Q",
        "outputId": "29270658-d2c5-4343-a367-acf54e433376"
      },
      "outputs": [
        {
          "name": "stdout",
          "output_type": "stream",
          "text": [
            "Pythong for Social Science\n"
          ]
        }
      ],
      "source": [
        "Verb = \"Pythong for Mathematics\"\n",
        "print(Verb.replace(\"Mathematics\", \"Social Science\"))"
      ]
    },
    {
      "cell_type": "code",
      "execution_count": null,
      "metadata": {
        "id": "JC-d0UrGatrG"
      },
      "outputs": [],
      "source": [
        "#Summary\n",
        "course = \"Python for Beginners\"\n",
        "len()\n",
        "course.upper()\n",
        "course.lower()\n",
        "course.tittle()\n",
        "course.find()\n",
        "course.replace()\n",
        "\"...\" in course\n"
      ]
    },
    {
      "cell_type": "code",
      "execution_count": null,
      "metadata": {
        "colab": {
          "base_uri": "https://localhost:8080/"
        },
        "id": "o7ro9AR3b6jJ",
        "outputId": "7e448188-b221-47e0-b980-631732c0f7a7"
      },
      "outputs": [
        {
          "name": "stdout",
          "output_type": "stream",
          "text": [
            "13\n",
            "7\n",
            "3.3333333333333335\n",
            "3\n",
            "1\n",
            "1000\n"
          ]
        }
      ],
      "source": [
        "#Arithemetic Operations\n",
        "print(10 + 3)\n",
        "print(10 - 3)\n",
        "print(10 / 3)\n",
        "print(10 // 3)\n",
        "print(10 % 3)\n",
        "print(10 ** 3)"
      ]
    },
    {
      "cell_type": "code",
      "execution_count": null,
      "metadata": {
        "colab": {
          "base_uri": "https://localhost:8080/"
        },
        "id": "YVXcm9rtdWny",
        "outputId": "c53b5ad7-7dfe-4a77-cde7-7bc31c76d7fe"
      },
      "outputs": [
        {
          "name": "stdout",
          "output_type": "stream",
          "text": [
            "13\n"
          ]
        }
      ],
      "source": [
        "x = 10\n",
        "x = x + 3\n",
        "print(x)"
      ]
    },
    {
      "cell_type": "code",
      "execution_count": null,
      "metadata": {
        "colab": {
          "base_uri": "https://localhost:8080/"
        },
        "id": "byX9R99pd3FD",
        "outputId": "c24dc2cb-6f4b-48c8-c741-66d4bd867427"
      },
      "outputs": [
        {
          "name": "stdout",
          "output_type": "stream",
          "text": [
            "7\n"
          ]
        }
      ],
      "source": [
        "x = 10\n",
        "x  -= 3               #Argumented assignment\n",
        "print(x)"
      ]
    },
    {
      "cell_type": "code",
      "execution_count": null,
      "metadata": {
        "colab": {
          "base_uri": "https://localhost:8080/"
        },
        "id": "4Vc9ilmafFhp",
        "outputId": "ef139d4e-c23b-45f3-8a45-9245e0ad837a"
      },
      "outputs": [
        {
          "name": "stdout",
          "output_type": "stream",
          "text": [
            "16\n"
          ]
        }
      ],
      "source": [
        "#Operator Precedence\n",
        "x = (10 + 3) * 2 ** 2\n",
        "print(x)\n",
        "parenthesis\n",
        "exponential 2 ** 2\n",
        "multiplication or division\n",
        "division or subtraction\n"
      ]
    },
    {
      "cell_type": "code",
      "execution_count": null,
      "metadata": {
        "colab": {
          "base_uri": "https://localhost:8080/"
        },
        "id": "sa0aHpwYgqeB",
        "outputId": "cc5f29ce-e654-45d7-c9eb-88c73d92f54a"
      },
      "outputs": [
        {
          "name": "stdout",
          "output_type": "stream",
          "text": [
            "22\n"
          ]
        }
      ],
      "source": [
        "x = 10 + 3 * 2 ** 2\n",
        "print(x)"
      ]
    },
    {
      "cell_type": "code",
      "execution_count": null,
      "metadata": {
        "colab": {
          "base_uri": "https://localhost:8080/"
        },
        "id": "BNAFo_lsgsCV",
        "outputId": "b700d3b9-5330-4653-8558-8788a4e082f9"
      },
      "outputs": [
        {
          "name": "stdout",
          "output_type": "stream",
          "text": [
            "52\n"
          ]
        }
      ],
      "source": [
        "x = (10 + 3) * 2 ** 2\n",
        "print(x)"
      ]
    },
    {
      "cell_type": "code",
      "execution_count": null,
      "metadata": {
        "colab": {
          "base_uri": "https://localhost:8080/"
        },
        "id": "Mbjv06ZrhHVa",
        "outputId": "b34fa378-2385-4669-8e38-e91924276aea"
      },
      "outputs": [
        {
          "name": "stdout",
          "output_type": "stream",
          "text": [
            "47\n"
          ]
        }
      ],
      "source": [
        "#Assigment\n",
        "x = (2 + 3 ) * 10 - 3\n",
        "print(x)"
      ]
    },
    {
      "cell_type": "code",
      "execution_count": null,
      "metadata": {
        "colab": {
          "base_uri": "https://localhost:8080/"
        },
        "id": "qs0GhIH_h5iQ",
        "outputId": "7fb52316-b392-46e3-902b-172ba9a2d054"
      },
      "outputs": [
        {
          "name": "stdout",
          "output_type": "stream",
          "text": [
            "3\n"
          ]
        }
      ],
      "source": [
        "# Math Functions\n",
        "x = 2.9\n",
        "print(round(x))"
      ]
    },
    {
      "cell_type": "code",
      "execution_count": null,
      "metadata": {
        "colab": {
          "base_uri": "https://localhost:8080/"
        },
        "id": "7sttmUEaiXr8",
        "outputId": "bdfcc241-9eaa-4ad4-8658-4ee03d121f8b"
      },
      "outputs": [
        {
          "name": "stdout",
          "output_type": "stream",
          "text": [
            "2.9\n"
          ]
        }
      ],
      "source": [
        "x = -2.9\n",
        "print(abs(-2.9))"
      ]
    },
    {
      "cell_type": "code",
      "execution_count": null,
      "metadata": {
        "colab": {
          "base_uri": "https://localhost:8080/"
        },
        "id": "bLr3w6jXjlQY",
        "outputId": "1101a591-4cb1-482c-e184-f1efc1a157c0"
      },
      "outputs": [
        {
          "name": "stdout",
          "output_type": "stream",
          "text": [
            "3\n"
          ]
        }
      ],
      "source": [
        "import math\n",
        "print(math.ceil(2.9))"
      ]
    },
    {
      "cell_type": "code",
      "execution_count": null,
      "metadata": {
        "id": "VMF_BYm5k9ma"
      },
      "outputs": [],
      "source": [
        "#IF statement\n",
        "#if its hot\n",
        "  Its a hot day\n",
        "   Drink plenty of water\n",
        "Otherwise if its cold\n",
        "   its a cold day\n",
        "   wear warm clothes\n",
        "otherwise\n",
        "  Its a lovely day"
      ]
    },
    {
      "cell_type": "code",
      "execution_count": null,
      "metadata": {
        "colab": {
          "base_uri": "https://localhost:8080/"
        },
        "id": "kMvUibRbo4bp",
        "outputId": "cc407a8e-8b41-4bf3-f6f9-4bbc3a1d75c2"
      },
      "outputs": [
        {
          "name": "stdout",
          "output_type": "stream",
          "text": [
            "It's a hot day\n",
            "Enjoy your day\n"
          ]
        }
      ],
      "source": [
        "Is_hot = True\n",
        "if Is_hot:\n",
        "  print(\"It's a hot day\")\n",
        "print(\"Enjoy your day\")\n"
      ]
    },
    {
      "cell_type": "code",
      "execution_count": null,
      "metadata": {
        "colab": {
          "base_uri": "https://localhost:8080/"
        },
        "id": "frVagfx7mxDt",
        "outputId": "6d3059b8-54a5-49e5-b16e-8cee6bd8a3d9"
      },
      "outputs": [
        {
          "name": "stdout",
          "output_type": "stream",
          "text": [
            "Down payment : $100000.0\n"
          ]
        }
      ],
      "source": [
        "#Assigment\n",
        "price = 1000000\n",
        "has_good_credit = True\n",
        "if has_good_credit:\n",
        "  down_payment = 0.1 * price\n",
        "else:\n",
        "  down_payment = 0.2 * price\n",
        "print(f\"Down payment : ${down_payment}\")"
      ]
    },
    {
      "cell_type": "code",
      "execution_count": null,
      "metadata": {
        "id": "LXIhmnpIoRUw"
      },
      "outputs": [],
      "source": [
        "#Logical Operator\n",
        "has_good_income = False\n",
        "has_good_credit = True\n",
        "if has_good_income and has_good_credit:\n",
        "  print(\"Eligible for loan\")\n"
      ]
    },
    {
      "cell_type": "code",
      "execution_count": null,
      "metadata": {
        "colab": {
          "base_uri": "https://localhost:8080/"
        },
        "id": "lvsERrw8vflY",
        "outputId": "19a22136-2d22-4b7e-aae4-dd0b9cbc4641"
      },
      "outputs": [
        {
          "name": "stdout",
          "output_type": "stream",
          "text": [
            "Eligible for loan\n"
          ]
        }
      ],
      "source": [
        "has_good_income = True\n",
        "has_good_credit = True\n",
        "if has_good_income or has_good_credit:\n",
        "  print(\"Eligible for loan\")"
      ]
    },
    {
      "cell_type": "code",
      "execution_count": null,
      "metadata": {
        "id": "xAYg99z0waUK"
      },
      "outputs": [],
      "source": [
        "has_good_credit = True\n",
        "has_criminal_record= True\n",
        "if has_good_credit and not has_criminal_record:\n",
        "    print(\"Eligible for loan\")"
      ]
    },
    {
      "cell_type": "code",
      "execution_count": null,
      "metadata": {
        "colab": {
          "base_uri": "https://localhost:8080/"
        },
        "id": "Rcmqi7r2yiJX",
        "outputId": "9c2cfa8e-9975-4ad6-86af-aaed22f247cf"
      },
      "outputs": [
        {
          "name": "stdout",
          "output_type": "stream",
          "text": [
            "It's not a hot day\n"
          ]
        }
      ],
      "source": [
        "#Comparison Operators\n",
        "temperature = 30\n",
        "if temperature > 30:\n",
        "  print(\"It's a hot day\")\n",
        "else:\n",
        "    print(\"It's not a hot day\")"
      ]
    },
    {
      "cell_type": "code",
      "execution_count": null,
      "metadata": {
        "colab": {
          "base_uri": "https://localhost:8080/"
        },
        "id": "PlXq8eZbSX3W",
        "outputId": "d711becd-adfa-4bc2-e0e5-0643c1a21d55"
      },
      "outputs": [
        {
          "name": "stdout",
          "output_type": "stream",
          "text": [
            "1\n",
            "2\n",
            "3\n",
            "4\n",
            "5\n",
            "Done\n"
          ]
        }
      ],
      "source": [
        "#While loop: We use y loops to execute ablock of code mulitiple times and there are often useful in building interactive programs and games\n",
        "i = 1\n",
        "while i <= 5:\n",
        "    print(i)\n",
        "    i = i + 1\n",
        "print(\"Done\")"
      ]
    },
    {
      "cell_type": "code",
      "execution_count": null,
      "metadata": {
        "colab": {
          "base_uri": "https://localhost:8080/"
        },
        "id": "MbyXKulZSYea",
        "outputId": "98908883-d421-4c13-8e83-224ffca354f8"
      },
      "outputs": [
        {
          "name": "stdout",
          "output_type": "stream",
          "text": [
            "*\n",
            "**\n",
            "***\n",
            "****\n",
            "*****\n",
            "Done\n"
          ]
        }
      ],
      "source": [
        "i = 1\n",
        "while i <= 5:\n",
        "    print(\"*\" * i)\n",
        "    i = i + 1\n",
        "print(\"Done\")"
      ]
    },
    {
      "cell_type": "code",
      "execution_count": null,
      "metadata": {
        "colab": {
          "base_uri": "https://localhost:8080/"
        },
        "id": "YrWckrYKSYjH",
        "outputId": "11f56941-4925-491e-ddf6-afac7dc56498"
      },
      "outputs": [
        {
          "name": "stdout",
          "output_type": "stream",
          "text": [
            "Guess:9\n",
            "You won!\n"
          ]
        }
      ],
      "source": [
        "secret_number = 9\n",
        "guess_count = 0\n",
        "guess_limit = 3\n",
        "while guess_count < guess_limit:\n",
        "    guess =  int(input(\"Guess:\"))\n",
        "    guess == secret_number\n",
        "    if guess == secret_number:\n",
        "       print(\"You won!\")\n",
        "       break\n",
        "else:\n",
        "    print(\"Sorry you failed\")"
      ]
    },
    {
      "cell_type": "code",
      "execution_count": null,
      "metadata": {
        "id": "9wNFXHxqSYnW"
      },
      "outputs": [],
      "source": [
        "command = \"\"\n",
        "while command != \"quit\"\":\n",
        "      command = input(\">\").lower()\n",
        "      if command == \"start\":\n",
        "         print(\"Car started....\")\n",
        "      elif command == \"stop\":\n",
        "          print(\"Car stopped.\")\n",
        "      elif command == \"help\":\n",
        "           print(\"\"\"\n",
        "           start - to start the car\n",
        "           stop - to stop the car\n",
        "           quit - to quit\n",
        "           \"\"\")\n",
        "      else:\n",
        "          print(\"sorry i dont understand that!\")"
      ]
    },
    {
      "cell_type": "code",
      "execution_count": null,
      "metadata": {
        "colab": {
          "base_uri": "https://localhost:8080/"
        },
        "id": "00ejBuX4SYqz",
        "outputId": "73592dcd-a20a-4656-9208-d4580b33fe5b"
      },
      "outputs": [
        {
          "name": "stdout",
          "output_type": "stream",
          "text": [
            "P\n",
            "y\n",
            "t\n",
            "h\n",
            "o\n",
            "n\n",
            "Mosh\n",
            "John\n",
            "Sarah\n"
          ]
        }
      ],
      "source": [
        "for item in \"Python\" :\n",
        "       print(item)\n",
        "for item in [\"Mosh\", \"John\" ,\"Sarah\"]:\n",
        "    print (item)"
      ]
    },
    {
      "cell_type": "code",
      "execution_count": null,
      "metadata": {
        "colab": {
          "base_uri": "https://localhost:8080/"
        },
        "id": "ya4V-lZWSYvM",
        "outputId": "4577d23a-47df-4baf-de33-f065c4694353"
      },
      "outputs": [
        {
          "name": "stdout",
          "output_type": "stream",
          "text": [
            "0\n",
            "1\n",
            "2\n",
            "3\n",
            "4\n",
            "5\n",
            "6\n",
            "7\n",
            "8\n",
            "9\n",
            "5\n",
            "6\n",
            "7\n",
            "8\n",
            "9\n"
          ]
        }
      ],
      "source": [
        "for item in range(10):\n",
        "    print (item)\n"
      ]
    },
    {
      "cell_type": "code",
      "execution_count": null,
      "metadata": {
        "colab": {
          "base_uri": "https://localhost:8080/"
        },
        "id": "i95lCSU5SYzi",
        "outputId": "af647ce5-b466-4c09-a665-aee329eeeefe"
      },
      "outputs": [
        {
          "name": "stdout",
          "output_type": "stream",
          "text": [
            "5\n",
            "6\n",
            "7\n",
            "8\n",
            "9\n"
          ]
        }
      ],
      "source": [
        "for item in range(5,10):\n",
        "    print (item)"
      ]
    },
    {
      "cell_type": "code",
      "execution_count": null,
      "metadata": {
        "colab": {
          "base_uri": "https://localhost:8080/"
        },
        "id": "Q-sjiqYwSY7T",
        "outputId": "2a32ffa8-442c-42a5-85c0-3461aac0f073"
      },
      "outputs": [
        {
          "name": "stdout",
          "output_type": "stream",
          "text": [
            "(0, 0\n",
            "(0, 1\n",
            "(0, 2\n",
            "(1, 0\n",
            "(1, 1\n",
            "(1, 2\n",
            "(2, 0\n",
            "(2, 1\n",
            "(2, 2\n",
            "(3, 0\n",
            "(3, 1\n",
            "(3, 2\n"
          ]
        }
      ],
      "source": [
        "# Nested if\n",
        "for x in range(4):\n",
        "   for y in range(3):\n",
        "       print(f\"({x}, {y}\")"
      ]
    },
    {
      "cell_type": "code",
      "execution_count": null,
      "metadata": {
        "colab": {
          "base_uri": "https://localhost:8080/"
        },
        "id": "vOv1cnJOSZJB",
        "outputId": "6982a22d-223f-4b40-d7ce-b2e99a782682"
      },
      "outputs": [
        {
          "name": "stdout",
          "output_type": "stream",
          "text": [
            "['Mosh', 'Sarah', 'Mary']\n"
          ]
        }
      ],
      "source": [
        "# List\n",
        "names = [\"John\", \"Bob\", \"Mosh\",\"Sarah\", \"Mary\"]\n",
        "print(names[2:])"
      ]
    },
    {
      "cell_type": "code",
      "execution_count": null,
      "metadata": {
        "colab": {
          "base_uri": "https://localhost:8080/"
        },
        "id": "A99EEPFvW0A9",
        "outputId": "be883d9d-8272-4ae0-8c51-7afdc6b738f3"
      },
      "outputs": [
        {
          "name": "stdout",
          "output_type": "stream",
          "text": [
            "['John', 'Bob', 'Mosh', 'Sarah', 'Mary']\n"
          ]
        }
      ],
      "source": [
        "# List\n",
        "names = [\"John\", \"Bob\", \"Mosh\",\"Sarah\", \"Mary\"]\n",
        "print(names)"
      ]
    },
    {
      "cell_type": "code",
      "execution_count": null,
      "metadata": {
        "colab": {
          "base_uri": "https://localhost:8080/"
        },
        "id": "rrURq76IW0FF",
        "outputId": "2cd46c6f-702e-4723-9082-1a0aa6aa187a"
      },
      "outputs": [
        {
          "name": "stdout",
          "output_type": "stream",
          "text": [
            "['John', 'Bob', 'Jon', 'Sarah', 'Mary']\n"
          ]
        }
      ],
      "source": [
        "# List\n",
        "names = [\"John\", \"Bob\", \"Mosh\",\"Sarah\", \"Mary\"]\n",
        "names[2] = \"Jon\"\n",
        "print(names)"
      ]
    },
    {
      "cell_type": "code",
      "execution_count": null,
      "metadata": {
        "colab": {
          "base_uri": "https://localhost:8080/"
        },
        "id": "Lu-UVmCSW0Zf",
        "outputId": "a9a4f565-64d6-4cce-e66d-79228771869e"
      },
      "outputs": [
        {
          "name": "stdout",
          "output_type": "stream",
          "text": [
            "2\n"
          ]
        }
      ],
      "source": [
        "#2 Dimentional List in python\n",
        "matrix = [\n",
        "    [1,2,3],\n",
        "    [4,5,6],\n",
        "    [7,8,9]\n",
        "]\n",
        "print(matrix[0][1])"
      ]
    },
    {
      "cell_type": "code",
      "execution_count": null,
      "metadata": {
        "colab": {
          "base_uri": "https://localhost:8080/"
        },
        "id": "CEGnqWBBW0f6",
        "outputId": "55211e64-f109-49ae-d888-18bcdc2ddbfc"
      },
      "outputs": [
        {
          "name": "stdout",
          "output_type": "stream",
          "text": [
            "1\n",
            "2\n",
            "3\n",
            "4\n",
            "5\n",
            "6\n",
            "7\n",
            "8\n",
            "9\n"
          ]
        }
      ],
      "source": [
        "# Nested if\n",
        "matrix = [\n",
        "    [1,2,3],\n",
        "    [4,5,6],\n",
        "    [7,8,9]\n",
        "]\n",
        "for row in matrix:\n",
        "    for item in row:\n",
        "        print(item)"
      ]
    },
    {
      "cell_type": "code",
      "execution_count": null,
      "metadata": {
        "colab": {
          "base_uri": "https://localhost:8080/"
        },
        "id": "nc9BJxVVW0kR",
        "outputId": "98d68ae3-6c63-4f82-f2f6-94be88a0ded3"
      },
      "outputs": [
        {
          "name": "stdout",
          "output_type": "stream",
          "text": [
            "[4, 5, 2, 4, 5, 6, 7, 8, 9, 20]\n"
          ]
        }
      ],
      "source": [
        "numbers = [4,5,2,4,5,6,7,8,9]\n",
        "numbers.append(20)\n",
        "print(numbers)"
      ]
    },
    {
      "cell_type": "code",
      "execution_count": null,
      "metadata": {
        "colab": {
          "base_uri": "https://localhost:8080/"
        },
        "id": "1VHwGxIShp9H",
        "outputId": "5aadcadf-7faf-4b9b-cab8-6a254ddb3a12"
      },
      "outputs": [
        {
          "name": "stdout",
          "output_type": "stream",
          "text": [
            "[]\n"
          ]
        }
      ],
      "source": [
        "numbers = [4,5,2,4,5,6,7,8,9]\n",
        "numbers.clear()\n",
        "print(numbers)"
      ]
    },
    {
      "cell_type": "code",
      "execution_count": null,
      "metadata": {
        "colab": {
          "base_uri": "https://localhost:8080/"
        },
        "id": "KaC4-mGGhxyu",
        "outputId": "fba0b3f9-33bd-43bb-b158-51f795bd4ed3"
      },
      "outputs": [
        {
          "name": "stdout",
          "output_type": "stream",
          "text": [
            "[4, 2, 4, 5, 6, 7, 8, 9]\n"
          ]
        }
      ],
      "source": [
        "numbers = [4,5,2,4,5,6,7,8,9]\n",
        "numbers.remove(5)\n",
        "print(numbers)"
      ]
    },
    {
      "cell_type": "code",
      "execution_count": null,
      "metadata": {
        "colab": {
          "base_uri": "https://localhost:8080/"
        },
        "id": "zJKVsSPfhqW9",
        "outputId": "c9d044b6-db25-484b-d2c3-f243bd0a6e0f"
      },
      "outputs": [
        {
          "name": "stdout",
          "output_type": "stream",
          "text": [
            "1\n"
          ]
        }
      ],
      "source": [
        "numbers = [4,5,2,4,5,6,7,8,9]\n",
        "print(numbers.index(5))"
      ]
    },
    {
      "cell_type": "code",
      "execution_count": null,
      "metadata": {
        "colab": {
          "base_uri": "https://localhost:8080/"
        },
        "id": "BUQGXFZSigmt",
        "outputId": "fa438d47-791c-462b-d01d-5603a05d0c9f"
      },
      "outputs": [
        {
          "name": "stdout",
          "output_type": "stream",
          "text": [
            "False\n"
          ]
        }
      ],
      "source": [
        "numbers = [4,5,2,4,5,6,7,8,9]\n",
        "print (50 in numbers)"
      ]
    },
    {
      "cell_type": "code",
      "execution_count": null,
      "metadata": {
        "colab": {
          "base_uri": "https://localhost:8080/"
        },
        "id": "8QU2-qdqivBo",
        "outputId": "d1a50077-af9f-4b94-ecd7-b0679bbb6cd7"
      },
      "outputs": [
        {
          "name": "stdout",
          "output_type": "stream",
          "text": [
            "2\n"
          ]
        }
      ],
      "source": [
        "numbers = [4,5,2,4,5,6,7,8,9]\n",
        "print (numbers.count(5))"
      ]
    },
    {
      "cell_type": "code",
      "execution_count": null,
      "metadata": {
        "colab": {
          "base_uri": "https://localhost:8080/"
        },
        "id": "yXcHLKzVi7q8",
        "outputId": "7a2e7034-d2ed-4aa1-a432-1b7d4b98920e"
      },
      "outputs": [
        {
          "name": "stdout",
          "output_type": "stream",
          "text": [
            "None\n"
          ]
        }
      ],
      "source": [
        "numbers = [4,5,2,4,5,6,7,8,9]\n",
        "print (numbers.sort())"
      ]
    },
    {
      "cell_type": "code",
      "execution_count": null,
      "metadata": {
        "colab": {
          "base_uri": "https://localhost:8080/"
        },
        "id": "pKIKHfkwjITB",
        "outputId": "2028e7ba-6984-48e2-ca16-017eeae0deef"
      },
      "outputs": [
        {
          "name": "stdout",
          "output_type": "stream",
          "text": [
            "[9, 8, 7, 6, 5, 5, 4, 4, 2]\n"
          ]
        }
      ],
      "source": [
        "numbers = [4,5,2,4,5,6,7,8,9]\n",
        "numbers.sort()\n",
        "numbers.reverse()\n",
        "print (numbers)"
      ]
    },
    {
      "cell_type": "code",
      "execution_count": null,
      "metadata": {
        "colab": {
          "base_uri": "https://localhost:8080/"
        },
        "id": "KIYLOwW8mCiX",
        "outputId": "9fa0a432-592c-4528-b40c-5eee660a2fd2"
      },
      "outputs": [
        {
          "name": "stdout",
          "output_type": "stream",
          "text": [
            "1\n"
          ]
        }
      ],
      "source": [
        "#Tuples are immutable we cannot mutate or changed them\n",
        "numbers = (1,2,3)\n",
        "print(numbers[0])"
      ]
    },
    {
      "cell_type": "code",
      "execution_count": null,
      "metadata": {
        "colab": {
          "base_uri": "https://localhost:8080/"
        },
        "id": "EYytQ_JmnFxh",
        "outputId": "4cbb2acf-cf23-486b-c8de-a515cc7b44c5"
      },
      "outputs": [
        {
          "name": "stdout",
          "output_type": "stream",
          "text": [
            "1\n"
          ]
        }
      ],
      "source": [
        "#Unpacking\n",
        "coordinates = (1,2,3)\n",
        "x = coordinates[0]\n",
        "y = coordinates[1]\n",
        "z = coordinates[2]\n",
        "x,y,z = coordinates\n",
        "print(x)\n"
      ]
    },
    {
      "cell_type": "code",
      "execution_count": null,
      "metadata": {
        "colab": {
          "base_uri": "https://localhost:8080/"
        },
        "id": "bQD3VZyxn_ot",
        "outputId": "e9d0b34e-d603-4364-bb2b-809319cb036b"
      },
      "outputs": [
        {
          "name": "stdout",
          "output_type": "stream",
          "text": [
            "John Smith\n"
          ]
        }
      ],
      "source": [
        "# Dictionaries\n",
        "customer = {\n",
        "    \"name\": \"John Smith\",\n",
        "    \"age\": 30,\n",
        "    \"is_verified\": True\n",
        "}\n",
        "print(customer[\"name\"])\n"
      ]
    },
    {
      "cell_type": "code",
      "execution_count": null,
      "metadata": {
        "colab": {
          "base_uri": "https://localhost:8080/"
        },
        "id": "iaRYOXxMW6oT",
        "outputId": "753bfb84-4c9c-4d61-e480-8e07d8bbb36e"
      },
      "outputs": [
        {
          "name": "stdout",
          "output_type": "stream",
          "text": [
            "Phone:1345\n",
            "One Three Four ! \n"
          ]
        }
      ],
      "source": [
        "phone = input(\"Phone:\")\n",
        "digits_mapping = {\n",
        "      \"1\": \"One\",\n",
        "      \"2\": \"Two\",\n",
        "      \"3\": \"Three\",\n",
        "      \"4\": \"Four\"\n",
        "}\n",
        "output = \"\"\n",
        "for ch in phone:\n",
        "    output += digits_mapping.get(ch,\"!\") + \" \"\n",
        "print(output)"
      ]
    },
    {
      "cell_type": "code",
      "execution_count": null,
      "metadata": {
        "colab": {
          "base_uri": "https://localhost:8080/"
        },
        "id": "VMUYWJgWXvGJ",
        "outputId": "9b4c5cc1-15e1-4db9-c318-fecc72ad621f"
      },
      "outputs": [
        {
          "name": "stdout",
          "output_type": "stream",
          "text": [
            ">Goodmorning sunshine :)\n"
          ]
        }
      ],
      "source": [
        "# Emoji Converter\n",
        "message = input(\">\")\n",
        "words = message.split(' ')\n",
        "emojis = {\n",
        "    \":)\": \"😊\",\n",
        "    \":(\": \"🙁\"\n",
        "}\n",
        "output = \"\"\n",
        "for word in words:\n",
        "    output += emojis.get(word, word) + \" \""
      ]
    },
    {
      "cell_type": "code",
      "execution_count": null,
      "metadata": {
        "colab": {
          "base_uri": "https://localhost:8080/"
        },
        "id": "9fd-C036fhIV",
        "outputId": "01a813e7-732e-4442-bf95-44ecac405f6b"
      },
      "outputs": [
        {
          "name": "stdout",
          "output_type": "stream",
          "text": [
            "Start\n",
            "Hi John!\n",
            "Welcome aboard\n",
            "Hi Mary!\n",
            "Welcome aboard\n",
            "Finish\n"
          ]
        }
      ],
      "source": [
        "#Funtions\n",
        "def greet_user(name):\n",
        "   print(f\"Hi {name}!\")\n",
        "   print(\"Welcome aboard\")\n",
        "print(\"Start\")\n",
        "greet_user(\"John\")\n",
        "greet_user(\"Mary\")\n",
        "print(\"Finish\")"
      ]
    },
    {
      "cell_type": "code",
      "execution_count": null,
      "metadata": {
        "id": "44F-bBnQgF5n"
      },
      "outputs": [],
      "source": [
        "#Funtions\n",
        "# Key Parameter\n",
        "def greet_user(first_name, Last_name):\n",
        "   print(f\"Hi {first_name},{Last_name}!\")\n",
        "   print(\"Welcome aboard\")\n",
        "print(\"Start\")\n",
        "greet_user(\"John\", \"Smith\")\n",
        "print(\"Finish\")\n",
        "\n"
      ]
    },
    {
      "cell_type": "code",
      "execution_count": null,
      "metadata": {
        "colab": {
          "base_uri": "https://localhost:8080/"
        },
        "id": "IohUB1G1lBfw",
        "outputId": "5206521e-4473-4b96-da28-67a6b902de9d"
      },
      "outputs": [
        {
          "name": "stdout",
          "output_type": "stream",
          "text": [
            "Start\n",
            "Hi John,Smith!\n",
            "Welcome aboard\n",
            "Finish\n"
          ]
        }
      ],
      "source": [
        "# Keyword Arguments\n",
        "def greet_user(first_name, Last_name):\n",
        "   print(f\"Hi {first_name},{Last_name}!\")\n",
        "   print(\"Welcome aboard\")\n",
        "print(\"Start\")\n",
        "greet_user(\"Smith\", \"John\")  #Position  Argument\n",
        "Cal_cost(total=50, shipping=5, discount=0.1) #Keyword  Argument\n",
        "print(\"Finish\")\n",
        "\n"
      ]
    },
    {
      "cell_type": "code",
      "execution_count": null,
      "metadata": {
        "id": "2Ky-Ww4-oYIb"
      },
      "outputs": [],
      "source": [
        "def greet_user(first_name, Last_name):\n",
        "   print(f\"Hi {first_name},{Last_name}!\")\n",
        "   print(\"Welcome aboard\")\n",
        "print(\"Start\")\n",
        "greet_user(\"John\", Last_name=\"Smith\")  #Position  Argument comes first before Keyword Arguments\n",
        "print(\"Finish\")\n"
      ]
    },
    {
      "cell_type": "code",
      "execution_count": null,
      "metadata": {
        "colab": {
          "base_uri": "https://localhost:8080/"
        },
        "id": "y93hMltOpVeM",
        "outputId": "7fa06153-adee-4020-d34c-7f09e1369db4"
      },
      "outputs": [
        {
          "name": "stdout",
          "output_type": "stream",
          "text": [
            "9\n"
          ]
        }
      ],
      "source": [
        "#Return Statement\n",
        "def square(number):\n",
        "    return number * number\n",
        "print(square(3))"
      ]
    },
    {
      "cell_type": "code",
      "execution_count": null,
      "metadata": {
        "colab": {
          "base_uri": "https://localhost:8080/"
        },
        "id": "hFatGW5dpuaG",
        "outputId": "45895c15-7937-4f27-9db2-41156eed1314"
      },
      "outputs": [
        {
          "name": "stdout",
          "output_type": "stream",
          "text": [
            "9\n",
            "None\n"
          ]
        }
      ],
      "source": [
        "def square(number):\n",
        "   print(number * number)\n",
        "print(square(3))"
      ]
    },
    {
      "cell_type": "code",
      "execution_count": null,
      "metadata": {
        "colab": {
          "base_uri": "https://localhost:8080/"
        },
        "id": "x7nzXDs7qJZA",
        "outputId": "b8d071ef-0209-4ebc-bd05-214e04001ce7"
      },
      "outputs": [
        {
          "name": "stdout",
          "output_type": "stream",
          "text": [
            "Age: 20\n",
            "20\n"
          ]
        }
      ],
      "source": [
        "# Creating a Usable Functions\n",
        "age = int(input(\"Age: \"))\n",
        "print(age)\n"
      ]
    },
    {
      "cell_type": "code",
      "execution_count": null,
      "metadata": {
        "colab": {
          "base_uri": "https://localhost:8080/"
        },
        "id": "XoRm6i9WyGWk",
        "outputId": "18ed3c44-3b0b-49e0-8110-2de730489278"
      },
      "outputs": [
        {
          "name": "stdout",
          "output_type": "stream",
          "text": [
            "Age: asa\n",
            "Invalid value\n"
          ]
        }
      ],
      "source": [
        "try:\n",
        "    age = int(input(\"Age: \"))\n",
        "    print(age)\n",
        "except ValueError:\n",
        "    print(\"Invalid value\")"
      ]
    },
    {
      "cell_type": "code",
      "execution_count": null,
      "metadata": {
        "colab": {
          "base_uri": "https://localhost:8080/"
        },
        "id": "U_-ORgGwzT4z",
        "outputId": "df24b49c-f077-4b86-8082-ad86c5720b91"
      },
      "outputs": [
        {
          "name": "stdout",
          "output_type": "stream",
          "text": [
            "Age: 0\n",
            "Age cannot be 0.\n"
          ]
        }
      ],
      "source": [
        "try:\n",
        "\n",
        "    age = int(input(\"Age: \"))\n",
        "    income = 2000\n",
        "    risk = income / age\n",
        "    print(age)\n",
        "except ZeroDivisionError:\n",
        "    print(\"Age cannot be 0.\")\n",
        "except ValueError:\n",
        "    print(\"Invalid value\")"
      ]
    },
    {
      "cell_type": "code",
      "execution_count": null,
      "metadata": {
        "colab": {
          "base_uri": "https://localhost:8080/"
        },
        "id": "qT30Ma3i0Ezo",
        "outputId": "83ab8066-4af3-4c97-ed47-1c4cf5dcc742"
      },
      "outputs": [
        {
          "name": "stdout",
          "output_type": "stream",
          "text": [
            "Ocean is blue\n"
          ]
        }
      ],
      "source": [
        "#Comments in python\n",
        "# print Ocean is blue\n",
        "print(\"Ocean is blue\")"
      ]
    },
    {
      "cell_type": "code",
      "execution_count": null,
      "metadata": {
        "colab": {
          "base_uri": "https://localhost:8080/"
        },
        "id": "f8fAZeJd04hX",
        "outputId": "116f2d85-15f4-48eb-944a-2b8209cb070b"
      },
      "outputs": [
        {
          "name": "stdout",
          "output_type": "stream",
          "text": [
            "10\n",
            "draw\n",
            "1\n"
          ]
        }
      ],
      "source": [
        "#Classes in Python\n",
        "class Point:\n",
        "     def move(self):\n",
        "         print(\"move\")\n",
        "\n",
        "     def draw(self):\n",
        "         print(\"draw\")\n",
        "\n",
        "point1 = Point()\n",
        "point1.x = 10\n",
        "point1.y = 20\n",
        "print(point1.x)\n",
        "point1.draw()\n",
        "\n",
        "point2 = Point()\n",
        "point2.x = 1\n",
        "print(point2.x)\n"
      ]
    },
    {
      "cell_type": "code",
      "execution_count": null,
      "metadata": {
        "colab": {
          "base_uri": "https://localhost:8080/"
        },
        "id": "x9X2jwjBfV4H",
        "outputId": "c41b7562-aa27-460f-b10a-b3209b8313ba"
      },
      "outputs": [
        {
          "name": "stdout",
          "output_type": "stream",
          "text": [
            "11\n"
          ]
        }
      ],
      "source": [
        "\n",
        "class Point:\n",
        "    def __init__(self, x, y):\n",
        "        self.x = x\n",
        "        self.y = y\n",
        "\n",
        "    def move(self):\n",
        "        print(\"move\")\n",
        "\n",
        "    def draw(self):\n",
        "        print(\"draw\")\n",
        "\n",
        "point = Point(10, 20)\n",
        "point.x = 11\n",
        "print(point.x)\n"
      ]
    }
  ],
  "metadata": {
    "colab": {
      "provenance": []
    },
    "kernelspec": {
      "display_name": "Python 3",
      "name": "python3"
    },
    "language_info": {
      "name": "python"
    }
  },
  "nbformat": 4,
  "nbformat_minor": 0
}